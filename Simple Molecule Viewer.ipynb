{
 "cells": [
  {
   "cell_type": "markdown",
   "metadata": {},
   "source": [
    "## Molecule Viewer"
   ]
  },
  {
   "cell_type": "markdown",
   "metadata": {},
   "source": [
    "#### Use drop downs to select molecule.  Display options are 'line' (not very visible), 'stick', and 'sphere', which is space-filling.\n",
    "#### Can choose to view two molecules at same time, or just one with the check box.  In viewing box, scrolling mouse wheel zooms, and mouse-button motion rotates the molecule."
   ]
  },
  {
   "cell_type": "code",
   "execution_count": null,
   "metadata": {},
   "outputs": [],
   "source": [
    "import py3Dmol, os, glob\n",
    "from rdkit import Chem\n",
    "import ipywidgets as widget\n",
    "\n",
    "def MolTo3DView(mol, size=(300, 300), style=\"stick\", surface=False, opacity=0.5):\n",
    "    \"\"\"Draw molecule in 3D\n",
    "    \n",
    "    Args:\n",
    "    ----\n",
    "        mol: rdMol, molecule to show\n",
    "        size: tuple(int, int), canvas size\n",
    "        style: str, type of drawing molecule\n",
    "               style can be 'line', 'stick', 'sphere', 'carton'\n",
    "        surface, bool, display SAS\n",
    "        opacity, float, opacity of surface, range 0.0-1.0\n",
    "    Return:\n",
    "    ----\n",
    "        viewer: py3Dmol.view, a class for constructing embedded 3Dmol.js views in ipython notebooks.\n",
    "    \"\"\"\n",
    "    assert style in ('line', 'stick', 'sphere', 'cartoon')\n",
    "    mblock = Chem.MolToMolBlock(mol)\n",
    "    viewer = py3Dmol.view(width=size[0], height=size[1])\n",
    "    viewer.addModel(mblock, 'mol')\n",
    "    viewer.setStyle({style:{}})\n",
    "    if surface:\n",
    "        viewer.addSurface(py3Dmol.SAS, {'opacity': opacity})\n",
    "    viewer.zoomTo()\n",
    "    return viewer\n",
    "\n"
   ]
  },
  {
   "cell_type": "code",
   "execution_count": null,
   "metadata": {
    "scrolled": false
   },
   "outputs": [],
   "source": [
    "outbox = widget.Output(layout = {'border': '1px solid black',\n",
    "                                  'width': '300px',\n",
    "                                  'height': '300px'})\n",
    "outbox2 = widget.Output(layout = {'border': '1px solid black',\n",
    "                                  'width': '300px',\n",
    "                                  'height': '300px'})\n",
    "\n",
    "def style_selector(change):\n",
    "    style = drop_style.value\n",
    "    outbox.clear_output(wait = True)\n",
    "    m = Chem.MolFromPDBFile(drop_file.value, sanitize=False, removeHs=False)\n",
    "    with outbox:\n",
    "        display(MolTo3DView(m, style = style))\n",
    "    \n",
    "def style_selector2(change):\n",
    "    style = drop_style2.value\n",
    "    outbox2.clear_output(wait = True)\n",
    "    m = Chem.MolFromPDBFile(drop_file2.value, sanitize=False, removeHs=False)\n",
    "    with outbox2:\n",
    "        display(MolTo3DView(m, style = style))\n",
    "        \n",
    "    \n",
    "drop_file = widget.Dropdown(options = glob.glob(\"data/*.pdb\"), description = \"File\")\n",
    "drop_style = widget.Dropdown(options = ['line', 'stick', 'sphere'], value = 'stick', description = 'Style:')\n",
    "check = widget.Checkbox(value = True, description =\"show two molecules\")\n",
    "\n",
    "# output2\n",
    "drop_file2 = widget.Dropdown(options = glob.glob(\"data/*.pdb\"), description = \"File\")\n",
    "drop_style2 = widget.Dropdown(options = ['line', 'stick', 'sphere'], value = 'stick', description = 'Style:')\n",
    "\n",
    "box = widget.VBox([drop_file, drop_style, outbox ])\n",
    "box2 = widget.VBox([drop_file2, drop_style2, outbox2 ])\n",
    "package = widget.HBox([box, box2, check])\n",
    "display(package)\n",
    "\n",
    "def showTwo(change):\n",
    "    print(\"inside\")\n",
    "    visibility = \"visible\" if check.value else \"hidden\"\n",
    "    box2.layout.visibility = visibility\n",
    "    \n",
    "    \n",
    "drop_file.observe(style_selector, names = 'value')\n",
    "drop_style.observe(style_selector, names = 'value')\n",
    "check.observe(showTwo, names = 'value')\n",
    "\n",
    "drop_file2.observe(style_selector2, names = 'value')\n",
    "drop_style2.observe(style_selector2, names = 'value')\n",
    "\n",
    "m = Chem.MolFromPDBFile(drop_file.value, sanitize = False, removeHs = False)\n",
    "with outbox:\n",
    "    display(MolTo3DView(m, style='stick'))"
   ]
  },
  {
   "cell_type": "code",
   "execution_count": null,
   "metadata": {},
   "outputs": [],
   "source": [
    "%%html\n",
    "<style>\n",
    "div.input{\n",
    "    display:none;\n",
    "}\n",
    "</style>"
   ]
  }
 ],
 "metadata": {
  "kernelspec": {
   "display_name": "Python 3",
   "language": "python",
   "name": "python3"
  },
  "language_info": {
   "codemirror_mode": {
    "name": "ipython",
    "version": 3
   },
   "file_extension": ".py",
   "mimetype": "text/x-python",
   "name": "python",
   "nbconvert_exporter": "python",
   "pygments_lexer": "ipython3",
   "version": "3.7.4"
  }
 },
 "nbformat": 4,
 "nbformat_minor": 2
}
