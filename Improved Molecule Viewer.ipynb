{
 "cells": [
  {
   "cell_type": "markdown",
   "metadata": {},
   "source": [
    "## Molecule Viewer"
   ]
  },
  {
   "cell_type": "markdown",
   "metadata": {},
   "source": [
    "$$\\require{mhchem}$$ \n",
    "\n",
    "#### Use drop downs to select molecule.  Display options are 'line' (not very visible), 'stick', and 'sphere', which is space-filling.\n",
    "#### Can choose to view two molecules at same time, or just one with the check box.  In viewing box, scrolling mouse wheel zooms, and mouse-button motion rotates the molecule."
   ]
  },
  {
   "cell_type": "code",
   "execution_count": 96,
   "metadata": {},
   "outputs": [],
   "source": [
    "import py3Dmol, glob\n",
    "import os.path\n",
    "from rdkit import Chem\n",
    "import ipywidgets as widgets\n",
    "\n",
    "def MolTo3DView(mol, size=(300, 300), style=\"stick\", surface=False, opacity=0.5):\n",
    "    \"\"\"Draw molecule in 3D\n",
    "    \n",
    "    Args:\n",
    "    ----\n",
    "        mol: rdMol, molecule to show\n",
    "        size: tuple(int, int), canvas size\n",
    "        style: str, type of drawing molecule\n",
    "               style can be 'line', 'stick', 'sphere', 'carton'\n",
    "        surface, bool, display SAS\n",
    "        opacity, float, opacity of surface, range 0.0-1.0\n",
    "    Return:\n",
    "    ----\n",
    "        viewer: py3Dmol.view, a class for constructing embedded 3Dmol.js views in ipython notebooks.\n",
    "    \"\"\"\n",
    "    assert style in ('line', 'stick', 'sphere', 'cartoon')\n",
    "    mblock = Chem.MolToMolBlock(mol)\n",
    "    viewer = py3Dmol.view(width=size[0], height=size[1])\n",
    "    viewer.addModel(mblock, 'mol')\n",
    "    viewer.setStyle({style:{}})\n",
    "    if surface:\n",
    "        viewer.addSurface(py3Dmol.SAS, {'opacity': opacity})\n",
    "    viewer.zoomTo()\n",
    "    return viewer\n",
    "\n"
   ]
  },
  {
   "cell_type": "code",
   "execution_count": 98,
   "metadata": {
    "scrolled": false
   },
   "outputs": [
    {
     "data": {
      "application/vnd.jupyter.widget-view+json": {
       "model_id": "830dbafa88804ea39bf9a360e6c5cb86",
       "version_major": 2,
       "version_minor": 0
      },
      "text/plain": [
       "VBox(children=(HBox(children=(VBox(children=(VBox(children=(HBox(children=(Dropdown(description='File', layout…"
      ]
     },
     "metadata": {},
     "output_type": "display_data"
    }
   ],
   "source": [
    "out_layout = widgets.Layout(border = \"1px solid black\", width = \"400px\", height = \"300px\")\n",
    "outbox = widgets.Output(layout = out_layout)\n",
    "outbox2 = widgets.Output(layout = out_layout)\n",
    "\n",
    "# dictionary to make molecules more viewable:\n",
    "data = {\n",
    "    'NH3': (\"ammonia\", \"NH3\"),\n",
    "    'BrF5': ('brf5', 'BrF5'), \n",
    "    'CH4': ('ch4', \"CH_4\"),\n",
    "    'ClF3': ('clf3', \"ClF_3\"),\n",
    "    'H2CO': ('h2co', \"H_2CO\"),\n",
    "    'IF5': ('if5', \"IF_5\"),\n",
    "    'PCl5': ('pcl5', \"PCl_5\"),\n",
    "    'SF4': ('sf4', \"SF_4\"),\n",
    "    'SF6': ('sf6', \"SF_6\"),\n",
    "    'SO2': ('sulfur_dioxide', \"SO_2\"),\n",
    "    'XeF2': ('xef2', \"XeF_2\"),\n",
    "    'XeF4': ('xef4', \"XeF_4\"), \n",
    "    'cis-[PtCl2(NH3)2]': ('cis_pt', \"cis-[PtCl2(NH3)2]\"),\n",
    "    'trans-[PtCl2(NH3)2]': ('trans_pt', \"trans-[PtCl2(NH3)2]\"),\n",
    "    'R-2-butanol': ('rbut_2ol', \"R-CH_3CH_2CH(OH)CH_3\"),\n",
    "    'S-2-butanol': ('sbut_2ol', \"S-CH_3CH_2CH(OH)CH_3\"),\n",
    "    'R-complex': ('tris_en1', \"R-[Co(en)3]\"),\n",
    "    'S-complex': ('tris_en2', \"S-[Co(en)3]\"),\n",
    "}\n",
    "\n",
    "name_format = r\"$$\\ce{{ {} }}$$\"\n",
    "nice_name = widgets.HTMLMath(name_format.format(\"NH_3\"))\n",
    "nice_name2 = widgets.HTMLMath(name_format.format(\"NH_3\"))\n",
    "\n",
    "# two simple callback funtions:\n",
    "def style_selector(change):\n",
    "    style = drop_style.value\n",
    "    outbox.clear_output(wait = True)\n",
    "    name, display_text = data[drop_file.value]\n",
    "    filename = os.path.join(\"data\" , name + \".pdb\")\n",
    "    nice_name.value = name_format.format(display_text)\n",
    "    m = Chem.MolFromPDBFile(filename, sanitize=False, removeHs=False)\n",
    "    with outbox:\n",
    "        display(MolTo3DView(m, style = style))\n",
    "    \n",
    "def style_selector2(change):\n",
    "    style = drop_style2.value\n",
    "    outbox2.clear_output(wait = True)\n",
    "    name, display_text = data[drop_file2.value]\n",
    "    filename = os.path.join(\"data\" , name + \".pdb\")\n",
    "    nice_name2.value = name_format.format(display_text)\n",
    "    m = Chem.MolFromPDBFile(filename, sanitize=False, removeHs=False)\n",
    "    with outbox2:\n",
    "        display(MolTo3DView(m, style = style))\n",
    "        \n",
    "drop_layout = widgets.Layout(height = \"30px\", width = \"250px\")\n",
    "drop_file = widgets.Dropdown(options = data.keys(), description = \"File\",\n",
    "                            layout = drop_layout)\n",
    "drop_style = widgets.Dropdown(options = ['line', 'stick', 'sphere'], value = 'stick', description = 'Style:',\n",
    "                             layout = drop_layout)\n",
    "check = widgets.Checkbox(value = True, description =\"show two molecules\")\n",
    "\n",
    "# output2\n",
    "drop_file2 = widgets.Dropdown(options = data.keys(), description = \"File\", layout = drop_layout)\n",
    "drop_style2 = widgets.Dropdown(options = ['line', 'stick', 'sphere'], value = 'stick', description = 'Style:',\n",
    "                              layout = drop_layout)\n",
    "\n",
    "placeholder = widgets.Label(\"\")\n",
    "row1 = widgets.HBox([drop_file, nice_name])\n",
    "row2 = widgets.HBox([drop_style, placeholder])\n",
    "box1 = widgets.VBox([row1, row2])\n",
    "\n",
    "row21 = widgets.HBox([drop_file2, nice_name2])\n",
    "row22 = widgets.HBox([drop_style2, placeholder])\n",
    "box2 = widgets.VBox([row21, row22])\n",
    "\n",
    "# main part boxes\n",
    "box = widgets.VBox([box1, outbox ])\n",
    "box2 = widgets.VBox([box2, outbox2 ])\n",
    "main_row = widgets.HBox([box, box2])\n",
    "\n",
    "#package = widgets.HBox([box, box2, check])\n",
    "package = widgets.VBox([main_row, check])\n",
    "display(package)\n",
    "\n",
    "def showTwo(change):\n",
    "    visibility = \"visible\" if check.value else \"hidden\"\n",
    "    box2.layout.visibility = visibility\n",
    "    \n",
    "    \n",
    "drop_file.observe(style_selector, names = 'value')\n",
    "drop_style.observe(style_selector, names = 'value')\n",
    "check.observe(showTwo, names = 'value')\n",
    "\n",
    "drop_file2.observe(style_selector2, names = 'value')\n",
    "drop_style2.observe(style_selector2, names = 'value')\n",
    "\n",
    "style_selector(\"start\")\n",
    "style_selector2(\"start\")"
   ]
  },
  {
   "cell_type": "code",
   "execution_count": null,
   "metadata": {},
   "outputs": [],
   "source": [
    "%%html\n",
    "<style>\n",
    "div.input{\n",
    "    display:none;\n",
    "}\n",
    "</style>"
   ]
  }
 ],
 "metadata": {
  "kernelspec": {
   "display_name": "Python 3",
   "language": "python",
   "name": "python3"
  },
  "language_info": {
   "codemirror_mode": {
    "name": "ipython",
    "version": 3
   },
   "file_extension": ".py",
   "mimetype": "text/x-python",
   "name": "python",
   "nbconvert_exporter": "python",
   "pygments_lexer": "ipython3",
   "version": "3.8.8"
  }
 },
 "nbformat": 4,
 "nbformat_minor": 2
}
